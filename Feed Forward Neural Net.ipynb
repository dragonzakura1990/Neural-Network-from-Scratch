{
 "cells": [
  {
   "cell_type": "code",
   "execution_count": 133,
   "metadata": {},
   "outputs": [],
   "source": [
    "import numpy as np\n",
    "\n",
    "class FFNN():\n",
    "    #parameters\n",
    "    def __init__(self, lr=0.01, epoch=100, layers=None):\n",
    "        self.lr=lr\n",
    "        self.epoch=epoch\n",
    "        self.layers=layers\n",
    "        self.loss=[]\n",
    "    \n",
    "    #functions\n",
    "    def sigmoid(self, z):\n",
    "        return 1.0/(1.0+np.exp(-z))\n",
    "    \n",
    "    def forward(self, x, weight, bias):\n",
    "        return self.sigmoid(np.dot(weight,x)+bias)\n",
    "    \n",
    "    def backprop(self, error, hidden, weight):\n",
    "        error_back=np.dot(weight,error)\n",
    "        hidden_back=np.multiply(self.sigmoid(hidden), 1-self.sigmoid(hidden))\n",
    "        return np.multiply(error_back, hidden_back)\n",
    "    \n",
    "    def criterion(self, out, Y):\n",
    "        error=0\n",
    "        for i in range(len(Y)):\n",
    "            error+=(out[i]-Y[i])**2\n",
    "        return error/len(Y)\n",
    "    \n",
    "    #training\n",
    "    def fit(self, X, y):\n",
    "        \n",
    "        #initialization\n",
    "        self.weights=[np.random.randn(y,x) for x, y in zip(layers[:-1],layers[1:])]\n",
    "        self.bias=[np.random.randn(y,1) for y in layers[1:]]\n",
    "    \n",
    "        for i in range(self.epoch):\n",
    "            #forward pass\n",
    "            outputs_f=[X.T]\n",
    "            inputs_f=[X.T]\n",
    "            output_f=X.T\n",
    "            for w,b in zip(self.weights, self.bias):\n",
    "                input_f=np.dot(w,outputs_f[-1])+b\n",
    "                output_f=self.forward(output_f, w, b)\n",
    "                inputs_f.append(input_f)\n",
    "                outputs_f.append(output_f)\n",
    "            outputs_f[-1]=inputs_f[-1]\n",
    "                \n",
    "            loss=self.criterion(outputs_f[-1].flatten(),y)\n",
    "            self.loss.append(loss)\n",
    "            \n",
    "            #backward prop\n",
    "            back_error=outputs_f[-1]-y\n",
    "            for i in reversed(range(len(self.weights))):\n",
    "                db=(1/len(y))*np.sum(back_error, axis=1, keepdims = True)\n",
    "                dw=(1/len(y))*np.dot(back_error,outputs_f[i].T)\n",
    "                self.weights[i]-=self.lr*dw\n",
    "                self.bias[i]-=self.lr*db\n",
    "                back_error=self.backprop(back_error,outputs_f[i],weights[i].T)\n",
    "    \n",
    "    def predict(self, X):\n",
    "        outputs=[X.T]\n",
    "        inputs=[X.T]\n",
    "        for w,b in zip(self.weights, self.bias):\n",
    "            input_hidden=np.dot(w,outputs[-1])+b\n",
    "            output_hidden=self.forward(outputs[-1], w, b)\n",
    "            inputs.append(input_hidden)\n",
    "            outputs.append(output_hidden)\n",
    "        return inputs[-1]\n",
    "    \n"
   ]
  },
  {
   "cell_type": "code",
   "execution_count": 155,
   "metadata": {},
   "outputs": [],
   "source": [
    "from sklearn.datasets import make_regression\n",
    "X, y=make_regression(n_samples=5,n_features=10, noise=0.2)"
   ]
  },
  {
   "cell_type": "code",
   "execution_count": 158,
   "metadata": {},
   "outputs": [],
   "source": [
    "model=FFNN(lr=0.1,epoch=300,layers=[10,5,3,1])\n",
    "model.fit(X,y)"
   ]
  },
  {
   "cell_type": "code",
   "execution_count": 159,
   "metadata": {},
   "outputs": [
    {
     "data": {
      "text/plain": [
       "[<matplotlib.lines.Line2D at 0x1d0ce93bd00>]"
      ]
     },
     "execution_count": 159,
     "metadata": {},
     "output_type": "execute_result"
    },
    {
     "data": {
      "image/png": "[encoded data removed]",
      "text/plain": [
       "<Figure size 432x288 with 1 Axes>"
      ]
     },
     "metadata": {
      "needs_background": "light"
     },
     "output_type": "display_data"
    }
   ],
   "source": [
    "import matplotlib.pyplot as plt\n",
    "plt.plot(model.loss)"
   ]
  },
  {
   "cell_type": "code",
   "execution_count": null,
   "metadata": {},
   "outputs": [],
   "source": []
  }
 ],
 "metadata": {
  "kernelspec": {
   "display_name": "Python 3",
   "language": "python",
   "name": "python3"
  },
  "language_info": {
   "codemirror_mode": {
    "name": "ipython",
    "version": 3
   },
   "file_extension": ".py",
   "mimetype": "text/x-python",
   "name": "python",
   "nbconvert_exporter": "python",
   "pygments_lexer": "ipython3",
   "version": "3.8.3"
  }
 },
 "nbformat": 4,
 "nbformat_minor": 4
}
